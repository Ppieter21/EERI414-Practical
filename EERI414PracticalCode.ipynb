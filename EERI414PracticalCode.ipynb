{
 "cells": [
  {
   "cell_type": "code",
   "execution_count": 1,
   "metadata": {},
   "outputs": [],
   "source": [
    "import tkinter as tk\n",
    "import os\n",
    "import time\n",
    "#import numpy as np\n",
    "#from PIL import Image, ImageTk\n",
    "#from numpy.fft import fftshift\n",
    "from matplotlib.image import imread\n",
    "import matplotlib.pyplot as plt\n",
    "\n",
    "import cmath\n",
    "\n",
    "import matplotlib\n",
    "import matplotlib.backends.backend_agg as agg\n",
    "\n",
    "\n",
    "WIDTH, HEIGHT = 1000,562\n",
    "SAMPLINGRATE = 128\n",
    "AMOUNT = 2\n",
    "ImageSize = 256\n",
    "root = tk.Tk()\n",
    "root.minsize(WIDTH, HEIGHT)\n",
    "root.title(\"EERI 414 Practical:  IIR Digital high-pass filter\")\n",
    "BG = tk.PhotoImage(file = os.path.join(\"Images\", \"background.png\"))\n",
    "lblBG = tk.Label(root, image = BG)\n",
    "lblBG.place(x = 0, y = 0)\n",
    "root.configure(background = \"navy\")\n",
    "\n",
    "def btnGenerateClick():\n",
    "    pass\n",
    "\n",
    "def btnAnalogClick():\n",
    "    pass\n",
    "\n",
    "\n",
    "def btnDigitalClick():\n",
    "    pass\n",
    "\n",
    "\n",
    "def btnRealizeClick():\n",
    "    pass\n",
    "\n",
    "\n",
    "def btnCompareClick():\n",
    "    pass\n",
    "\n",
    "\n",
    "\n",
    "       \n",
    "btngenerate = tk.Button(root, text = \"Generate signal\",command=btnGenerateClick)\n",
    "btngenerate.place(x=WIDTH*0.2,y=HEIGHT*0.1)\n",
    "\n",
    "btnAnalog = tk.Button(root, text = \"Analog domain\",command=btnAnalogClick)\n",
    "btnAnalog.place(x=WIDTH*0.2,y=HEIGHT*0.2)\n",
    "\n",
    "btnDigital = tk.Button(root, text = \"Digital domain\",command=btnDigitalClick)\n",
    "btnDigital.place(x=WIDTH*0.2,y=HEIGHT*0.3)\n",
    "\n",
    "btnRealize = tk.Button(root, text = \"Realize filter\",command=btnRealizeClick)\n",
    "btnRealize.place(x=WIDTH*0.2,y=HEIGHT*0.4)\n",
    "\n",
    "btnCompare = tk.Button(root, text = \"Input vs output of filter\",command=btnCompareClick)\n",
    "btnCompare.place(x=WIDTH*0.2,y=HEIGHT*0.5)\n",
    "\n",
    "\n",
    "\n",
    "root.mainloop()\n"
   ]
  },
  {
   "cell_type": "code",
   "execution_count": 37,
   "metadata": {},
   "outputs": [],
   "source": [
    "from sympy import symbols\n",
    "from sympy import tan, acosh, sqrt, ceiling\n",
    "from sympy.interactive import printing\n",
    "printing.init_printing(use_latex = True)\n",
    "import math\n",
    "\n",
    "import matplotlib.pyplot as plt"
   ]
  },
  {
   "cell_type": "code",
   "execution_count": 38,
   "metadata": {},
   "outputs": [
    {
     "data": {
      "text/plain": [
       "'Wp:'"
      ]
     },
     "metadata": {},
     "output_type": "display_data"
    },
    {
     "name": "stderr",
     "output_type": "stream",
     "text": [
      "c:\\Users\\Conrad\\AppData\\Local\\Programs\\Python\\Python37\\lib\\site-packages\\IPython\\lib\\latextools.py:126: MatplotlibDeprecationWarning: \n",
      "The to_png function was deprecated in Matplotlib 3.4 and will be removed two minor releases later. Use mathtext.math_to_image instead.\n",
      "  mt.to_png(f, s, fontsize=12, dpi=dpi, color=color)\n",
      "c:\\Users\\Conrad\\AppData\\Local\\Programs\\Python\\Python37\\lib\\site-packages\\IPython\\lib\\latextools.py:126: MatplotlibDeprecationWarning: \n",
      "The to_rgba function was deprecated in Matplotlib 3.4 and will be removed two minor releases later. Use mathtext.math_to_image instead.\n",
      "  mt.to_png(f, s, fontsize=12, dpi=dpi, color=color)\n",
      "c:\\Users\\Conrad\\AppData\\Local\\Programs\\Python\\Python37\\lib\\site-packages\\IPython\\lib\\latextools.py:126: MatplotlibDeprecationWarning: \n",
      "The to_mask function was deprecated in Matplotlib 3.4 and will be removed two minor releases later. Use mathtext.math_to_image instead.\n",
      "  mt.to_png(f, s, fontsize=12, dpi=dpi, color=color)\n",
      "c:\\Users\\Conrad\\AppData\\Local\\Programs\\Python\\Python37\\lib\\site-packages\\IPython\\lib\\latextools.py:126: MatplotlibDeprecationWarning: \n",
      "The MathtextBackendBitmap class was deprecated in Matplotlib 3.4 and will be removed two minor releases later. Use mathtext.math_to_image instead.\n",
      "  mt.to_png(f, s, fontsize=12, dpi=dpi, color=color)\n"
     ]
    },
    {
     "data": {
      "image/png": "[encoded data removed]",
      "text/latex": [
       "$\\displaystyle \\frac{6.28318530717958 Fp}{Ft}$"
      ],
      "text/plain": [
       "6.28318530717958⋅Fp\n",
       "───────────────────\n",
       "         Ft        "
      ]
     },
     "metadata": {},
     "output_type": "display_data"
    },
    {
     "data": {
      "text/plain": [
       "'Ws:'"
      ]
     },
     "metadata": {},
     "output_type": "display_data"
    },
    {
     "data": {
      "image/png": "[encoded data removed]",
      "text/latex": [
       "$\\displaystyle \\frac{6.28318530717958 Fs}{Ft}$"
      ],
      "text/plain": [
       "6.28318530717958⋅Fs\n",
       "───────────────────\n",
       "         Ft        "
      ]
     },
     "metadata": {},
     "output_type": "display_data"
    },
    {
     "data": {
      "text/plain": [
       "'Omegap:'"
      ]
     },
     "metadata": {},
     "output_type": "display_data"
    },
    {
     "data": {
      "image/png": "[encoded data removed]",
      "text/latex": [
       "$\\displaystyle \\tan{\\left(\\frac{3.14159265358979 Fs}{Ft} \\right)}$"
      ],
      "text/plain": [
       "   ⎛3.14159265358979⋅Fs⎞\n",
       "tan⎜───────────────────⎟\n",
       "   ⎝         Ft        ⎠"
      ]
     },
     "metadata": {},
     "output_type": "display_data"
    },
    {
     "data": {
      "text/plain": [
       "'Omegas:'"
      ]
     },
     "metadata": {},
     "output_type": "display_data"
    },
    {
     "data": {
      "image/png": "[encoded data removed]",
      "text/latex": [
       "$\\displaystyle \\tan{\\left(\\frac{3.14159265358979 Fp}{Ft} \\right)}$"
      ],
      "text/plain": [
       "   ⎛3.14159265358979⋅Fp⎞\n",
       "tan⎜───────────────────⎟\n",
       "   ⎝         Ft        ⎠"
      ]
     },
     "metadata": {},
     "output_type": "display_data"
    },
    {
     "data": {
      "text/plain": [
       "'n:'"
      ]
     },
     "metadata": {},
     "output_type": "display_data"
    },
    {
     "data": {
      "image/png": "[encoded data removed]",
      "text/latex": [
       "$\\displaystyle \\frac{\\operatorname{acosh}{\\left(\\sqrt{\\frac{10^{\\frac{Amin}{10}} - 1}{10^{\\frac{Amax}{10}} - 1}} \\right)}}{\\operatorname{acosh}{\\left(\\frac{\\tan{\\left(\\frac{3.14159265358979 Fp}{Ft} \\right)}}{\\tan{\\left(\\frac{3.14159265358979 Fs}{Ft} \\right)}} \\right)}}$"
      ],
      "text/plain": [
       "      ⎛          ____________⎞ \n",
       "      ⎜         ╱   Amin     ⎟ \n",
       "      ⎜        ╱    ────     ⎟ \n",
       "      ⎜       ╱      10      ⎟ \n",
       "      ⎜      ╱    10     - 1 ⎟ \n",
       " acosh⎜     ╱     ────────── ⎟ \n",
       "      ⎜    ╱        Amax     ⎟ \n",
       "      ⎜   ╱         ────     ⎟ \n",
       "      ⎜  ╱           10      ⎟ \n",
       "      ⎝╲╱         10     - 1 ⎠ \n",
       "───────────────────────────────\n",
       "     ⎛   ⎛3.14159265358979⋅Fp⎞⎞\n",
       "     ⎜tan⎜───────────────────⎟⎟\n",
       "     ⎜   ⎝         Ft        ⎠⎟\n",
       "acosh⎜────────────────────────⎟\n",
       "     ⎜   ⎛3.14159265358979⋅Fs⎞⎟\n",
       "     ⎜tan⎜───────────────────⎟⎟\n",
       "     ⎝   ⎝         Ft        ⎠⎠"
      ]
     },
     "metadata": {},
     "output_type": "display_data"
    },
    {
     "data": {
      "image/png": "[encoded data removed]",
      "text/latex": [
       "$\\displaystyle 5$"
      ],
      "text/plain": [
       "5"
      ]
     },
     "metadata": {},
     "output_type": "display_data"
    }
   ],
   "source": [
    "FT = 300000 #Hz\n",
    "FP = 85000 #Hz\n",
    "FS = 45000 #Hz\n",
    "AMAX = 0.25 #dB\n",
    "AMIN = 40 #dB\n",
    "PI = 3.141592653589792328462643383279502\n",
    "\n",
    "Ft, Fp, Fs, Amax, Amin = symbols('Ft Fp Fs Amax Amin')\n",
    "\n",
    "\n",
    "#Convert to radians per seconds:\n",
    "Wp, Ws = symbols('Wp Ws')\n",
    "\n",
    "Wp = (2*PI*Fp)/Ft\n",
    "Ws = (2*PI*Fs)/Ft\n",
    "\n",
    "display(\"Wp:\", Wp, \"Ws:\", Ws)\n",
    "\n",
    "\n",
    "#Pre-warp/normalise to Low Pass\n",
    "Omegap, Omegas = symbols('Omegap Omegas')\n",
    "\n",
    "Omegas = tan(Wp/2)\n",
    "Omegap = tan(Ws/2)\n",
    "\n",
    "display(\"Omegap:\", Omegap, \"Omegas:\", Omegas)\n",
    "\n",
    "#Find order of filter\n",
    "\n",
    "n = (acosh(sqrt((10**(Amin/10)-1)/(10**(Amax/10)-1))))/(acosh(Omegas/Omegap))\n",
    "\n",
    "display(\"n:\", n)\n",
    "\n",
    "nAnswer = n.subs([(Amax, AMAX), (Amin, AMIN), (Ft, FT), (Fp, FP), (Fs, FS)])\n",
    "\n",
    "display(ceiling(nAnswer.evalf()))\n",
    "\n"
   ]
  }
 ],
 "metadata": {
  "interpreter": {
   "hash": "0f59bac9780732ca3304efe7ae9ff76b18fa85106a69910df37ee679cd4bd51e"
  },
  "kernelspec": {
   "display_name": "Python 3.7.3 64-bit",
   "language": "python",
   "name": "python3"
  },
  "language_info": {
   "codemirror_mode": {
    "name": "ipython",
    "version": 3
   },
   "file_extension": ".py",
   "mimetype": "text/x-python",
   "name": "python",
   "nbconvert_exporter": "python",
   "pygments_lexer": "ipython3",
   "version": "3.7.3"
  },
  "orig_nbformat": 4
 },
 "nbformat": 4,
 "nbformat_minor": 2
}

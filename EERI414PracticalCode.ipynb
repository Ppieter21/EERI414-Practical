{
 "cells": [
  {
   "cell_type": "code",
   "execution_count": 1,
   "metadata": {},
   "outputs": [],
   "source": [
    "import tkinter as tk\n",
    "import os\n",
    "import time\n",
    "#import numpy as np\n",
    "#from PIL import Image, ImageTk\n",
    "#from numpy.fft import fftshift\n",
    "from matplotlib.image import imread\n",
    "import matplotlib.pyplot as plt\n",
    "\n",
    "import cmath\n",
    "\n",
    "import matplotlib\n",
    "import matplotlib.backends.backend_agg as agg\n",
    "\n",
    "\n",
    "WIDTH, HEIGHT = 1000,562\n",
    "SAMPLINGRATE = 128\n",
    "AMOUNT = 2\n",
    "ImageSize = 256\n",
    "root = tk.Tk()\n",
    "root.minsize(WIDTH, HEIGHT)\n",
    "root.title(\"EERI 414 Practical:  IIR Digital high-pass filter\")\n",
    "BG = tk.PhotoImage(file = os.path.join(\"Images\", \"background.png\"))\n",
    "lblBG = tk.Label(root, image = BG)\n",
    "lblBG.place(x = 0, y = 0)\n",
    "root.configure(background = \"navy\")\n",
    "\n",
    "def btnGenerateClick():\n",
    "    pass\n",
    "\n",
    "def btnAnalogClick():\n",
    "    pass\n",
    "\n",
    "\n",
    "def btnDigitalClick():\n",
    "    pass\n",
    "\n",
    "\n",
    "def btnRealizeClick():\n",
    "    pass\n",
    "\n",
    "\n",
    "def btnCompareClick():\n",
    "    pass\n",
    "\n",
    "\n",
    "\n",
    "       \n",
    "btngenerate = tk.Button(root, text = \"Generate signal\",command=btnGenerateClick)\n",
    "btngenerate.place(x=WIDTH*0.2,y=HEIGHT*0.1)\n",
    "\n",
    "btnAnalog = tk.Button(root, text = \"Analog domain\",command=btnAnalogClick)\n",
    "btnAnalog.place(x=WIDTH*0.2,y=HEIGHT*0.2)\n",
    "\n",
    "btnDigital = tk.Button(root, text = \"Digital domain\",command=btnDigitalClick)\n",
    "btnDigital.place(x=WIDTH*0.2,y=HEIGHT*0.3)\n",
    "\n",
    "btnRealize = tk.Button(root, text = \"Realize filter\",command=btnRealizeClick)\n",
    "btnRealize.place(x=WIDTH*0.2,y=HEIGHT*0.4)\n",
    "\n",
    "btnCompare = tk.Button(root, text = \"Input vs output of filter\",command=btnCompareClick)\n",
    "btnCompare.place(x=WIDTH*0.2,y=HEIGHT*0.5)\n",
    "\n",
    "\n",
    "\n",
    "root.mainloop()\n"
   ]
  },
  {
   "cell_type": "code",
   "execution_count": 53,
   "metadata": {},
   "outputs": [],
   "source": [
    "from sympy import symbols\n",
    "from sympy import tan, acosh, sqrt, ceiling, I, Abs, atan, re, im\n",
    "from sympy.interactive import printing\n",
    "printing.init_printing(use_latex = True)\n",
    "#import lcapy as lc\n",
    "#from lcapy.discretetime import z\n",
    "\n",
    "import matplotlib.pyplot as plt"
   ]
  },
  {
   "cell_type": "code",
   "execution_count": 43,
   "metadata": {},
   "outputs": [
    {
     "data": {
      "text/plain": [
       "'Wp:'"
      ]
     },
     "metadata": {},
     "output_type": "display_data"
    },
    {
     "name": "stderr",
     "output_type": "stream",
     "text": [
      "c:\\Users\\Conrad\\AppData\\Local\\Programs\\Python\\Python37\\lib\\site-packages\\IPython\\lib\\latextools.py:126: MatplotlibDeprecationWarning: \n",
      "The to_png function was deprecated in Matplotlib 3.4 and will be removed two minor releases later. Use mathtext.math_to_image instead.\n",
      "  mt.to_png(f, s, fontsize=12, dpi=dpi, color=color)\n",
      "c:\\Users\\Conrad\\AppData\\Local\\Programs\\Python\\Python37\\lib\\site-packages\\IPython\\lib\\latextools.py:126: MatplotlibDeprecationWarning: \n",
      "The to_rgba function was deprecated in Matplotlib 3.4 and will be removed two minor releases later. Use mathtext.math_to_image instead.\n",
      "  mt.to_png(f, s, fontsize=12, dpi=dpi, color=color)\n",
      "c:\\Users\\Conrad\\AppData\\Local\\Programs\\Python\\Python37\\lib\\site-packages\\IPython\\lib\\latextools.py:126: MatplotlibDeprecationWarning: \n",
      "The to_mask function was deprecated in Matplotlib 3.4 and will be removed two minor releases later. Use mathtext.math_to_image instead.\n",
      "  mt.to_png(f, s, fontsize=12, dpi=dpi, color=color)\n",
      "c:\\Users\\Conrad\\AppData\\Local\\Programs\\Python\\Python37\\lib\\site-packages\\IPython\\lib\\latextools.py:126: MatplotlibDeprecationWarning: \n",
      "The MathtextBackendBitmap class was deprecated in Matplotlib 3.4 and will be removed two minor releases later. Use mathtext.math_to_image instead.\n",
      "  mt.to_png(f, s, fontsize=12, dpi=dpi, color=color)\n"
     ]
    },
    {
     "data": {
      "image/png": "[encoded data removed]",
      "text/latex": [
       "$\\displaystyle \\frac{6.28318530717958 Fp}{Ft}$"
      ],
      "text/plain": [
       "6.28318530717958⋅Fp\n",
       "───────────────────\n",
       "         Ft        "
      ]
     },
     "metadata": {},
     "output_type": "display_data"
    },
    {
     "data": {
      "text/plain": [
       "'Ws:'"
      ]
     },
     "metadata": {},
     "output_type": "display_data"
    },
    {
     "data": {
      "image/png": "[encoded data removed]",
      "text/latex": [
       "$\\displaystyle \\frac{6.28318530717958 Fs}{Ft}$"
      ],
      "text/plain": [
       "6.28318530717958⋅Fs\n",
       "───────────────────\n",
       "         Ft        "
      ]
     },
     "metadata": {},
     "output_type": "display_data"
    }
   ],
   "source": [
    "FT = 205000 #Hz\n",
    "FP = 80000 #Hz\n",
    "FS = 50000 #Hz\n",
    "AMAX = 0.25 #dB\n",
    "AMIN = 40 #dB\n",
    "PI = 3.141592653589792328462643383279502\n",
    "\n",
    "Ft, Fp, Fs, Amax, Amin, s = symbols('Ft Fp Fs Amax Amin s')\n",
    "\n",
    "\n",
    "#Convert to radians per seconds:\n",
    "Wp, Ws = symbols('Wp Ws')\n",
    "\n",
    "Wp = (2*PI*Fp)/Ft\n",
    "Ws = (2*PI*Fs)/Ft\n",
    "\n",
    "display(\"Wp:\", Wp, \"Ws:\", Ws)\n",
    "\n"
   ]
  },
  {
   "cell_type": "code",
   "execution_count": 47,
   "metadata": {},
   "outputs": [],
   "source": [
    "Wp = -1\n",
    "Ws = -0.5294"
   ]
  },
  {
   "cell_type": "code",
   "execution_count": 44,
   "metadata": {},
   "outputs": [
    {
     "data": {
      "text/plain": [
       "'Omegap:'"
      ]
     },
     "metadata": {},
     "output_type": "display_data"
    },
    {
     "data": {
      "image/png": "[encoded data removed]",
      "text/latex": [
       "$\\displaystyle \\tan{\\left(\\frac{3.14159265358979 Fs}{Ft} \\right)}$"
      ],
      "text/plain": [
       "   ⎛3.14159265358979⋅Fs⎞\n",
       "tan⎜───────────────────⎟\n",
       "   ⎝         Ft        ⎠"
      ]
     },
     "metadata": {},
     "output_type": "display_data"
    },
    {
     "data": {
      "text/plain": [
       "'Omegas:'"
      ]
     },
     "metadata": {},
     "output_type": "display_data"
    },
    {
     "data": {
      "image/png": "[encoded data removed]",
      "text/latex": [
       "$\\displaystyle \\tan{\\left(\\frac{3.14159265358979 Fp}{Ft} \\right)}$"
      ],
      "text/plain": [
       "   ⎛3.14159265358979⋅Fp⎞\n",
       "tan⎜───────────────────⎟\n",
       "   ⎝         Ft        ⎠"
      ]
     },
     "metadata": {},
     "output_type": "display_data"
    },
    {
     "data": {
      "text/plain": [
       "'n:'"
      ]
     },
     "metadata": {},
     "output_type": "display_data"
    },
    {
     "data": {
      "image/png": "[encoded data removed]",
      "text/latex": [
       "$\\displaystyle \\frac{\\operatorname{acosh}{\\left(\\sqrt{\\frac{10^{\\frac{Amin}{10}} - 1}{10^{\\frac{Amax}{10}} - 1}} \\right)}}{\\operatorname{acosh}{\\left(\\frac{\\tan{\\left(\\frac{3.14159265358979 Fp}{Ft} \\right)}}{\\tan{\\left(\\frac{3.14159265358979 Fs}{Ft} \\right)}} \\right)}}$"
      ],
      "text/plain": [
       "      ⎛          ____________⎞ \n",
       "      ⎜         ╱   Amin     ⎟ \n",
       "      ⎜        ╱    ────     ⎟ \n",
       "      ⎜       ╱      10      ⎟ \n",
       "      ⎜      ╱    10     - 1 ⎟ \n",
       " acosh⎜     ╱     ────────── ⎟ \n",
       "      ⎜    ╱        Amax     ⎟ \n",
       "      ⎜   ╱         ────     ⎟ \n",
       "      ⎜  ╱           10      ⎟ \n",
       "      ⎝╲╱         10     - 1 ⎠ \n",
       "───────────────────────────────\n",
       "     ⎛   ⎛3.14159265358979⋅Fp⎞⎞\n",
       "     ⎜tan⎜───────────────────⎟⎟\n",
       "     ⎜   ⎝         Ft        ⎠⎟\n",
       "acosh⎜────────────────────────⎟\n",
       "     ⎜   ⎛3.14159265358979⋅Fs⎞⎟\n",
       "     ⎜tan⎜───────────────────⎟⎟\n",
       "     ⎝   ⎝         Ft        ⎠⎠"
      ]
     },
     "metadata": {},
     "output_type": "display_data"
    },
    {
     "data": {
      "image/png": "[encoded data removed]",
      "text/latex": [
       "$\\displaystyle 3.89246095739655$"
      ],
      "text/plain": [
       "3.89246095739655"
      ]
     },
     "metadata": {},
     "output_type": "display_data"
    },
    {
     "data": {
      "image/png": "[encoded data removed]",
      "text/latex": [
       "$\\displaystyle 4$"
      ],
      "text/plain": [
       "4"
      ]
     },
     "metadata": {},
     "output_type": "display_data"
    }
   ],
   "source": [
    "\n",
    "#Pre-warp/normalise to Low Pass\n",
    "Omegap, Omegas = symbols('Omegap Omegas')\n",
    "\n",
    "Omegas = tan(Wp/2)\n",
    "Omegap = tan(Ws/2)\n",
    "\n",
    "display(\"Omegap:\", Omegap, \"Omegas:\", Omegas)\n",
    "\n",
    "\n",
    "#Find order of filter\n",
    "\n",
    "n = (acosh(sqrt((10**(Amin/10)-1)/(10**(Amax/10)-1))))/(acosh(Omegas/Omegap))\n",
    "\n",
    "display(\"n:\", n)\n",
    "\n",
    "nAnswer = n.subs([(Amax, AMAX), (Amin, AMIN), (Ft, FT), (Fp, FP), (Fs, FS)])\n",
    "\n",
    "display(nAnswer.evalf())\n",
    "display(ceiling(nAnswer.evalf()))\n",
    "\n"
   ]
  },
  {
   "cell_type": "code",
   "execution_count": 45,
   "metadata": {},
   "outputs": [
    {
     "data": {
      "image/png": "[encoded data removed]",
      "text/latex": [
       "$\\displaystyle \\left(s^{2} + 0.42504 s + 1.16195\\right) \\left(s^{2} + 1.02613 s + 0.45485\\right)$"
      ],
      "text/plain": [
       "⎛ 2                      ⎞ ⎛ 2                      ⎞\n",
       "⎝s  + 0.42504⋅s + 1.16195⎠⋅⎝s  + 1.02613⋅s + 0.45485⎠"
      ]
     },
     "metadata": {},
     "output_type": "display_data"
    },
    {
     "data": {
      "text/plain": [
       "'Hhps:'"
      ]
     },
     "metadata": {},
     "output_type": "display_data"
    },
    {
     "data": {
      "image/png": "[encoded data removed]",
      "text/latex": [
       "$\\displaystyle 0.5285129575 + \\frac{1.33354593299746}{s} + \\frac{1.90148092258072}{s^{2}} + \\frac{1.29356979974996}{s^{3}} + \\frac{0.857884395280932}{s^{4}}$"
      ],
      "text/plain": [
       "               1.33354593299746   1.90148092258072   1.29356979974996   0.8578\n",
       "0.5285129575 + ──────────────── + ──────────────── + ──────────────── + ──────\n",
       "                      s                   2                  3                \n",
       "                                         s                  s                 \n",
       "\n",
       "84395280932\n",
       "───────────\n",
       "   4       \n",
       "  s        "
      ]
     },
     "metadata": {},
     "output_type": "display_data"
    }
   ],
   "source": [
    "Hlps = symbols('Hlps')\n",
    "\n",
    "#Hlps = (s*s + 0.27005*s + 1.09543)(s*s + 0.707*s + 0.53642)(s + 0.43695) n=5\n",
    "#Hlps = (1.02702)/((s*s + 0.76722*s + 1.33863)* (s + 0.76722))  #n=3\n",
    "Hlps = (s*s + 0.42504*s + 1.16195) * (s*s + 1.02613*s + 0.45485) #n=4\n",
    "\n",
    "display(Hlps)\n",
    "\n",
    "Hhps = symbols('Hhps')\n",
    "Hhps = Hlps.subs([(s, Omegap/s), (Fs, FS), (Ft, FT)])\n",
    "display(\"Hhps:\", Hhps.simplify())\n"
   ]
  },
  {
   "cell_type": "code",
   "execution_count": 32,
   "metadata": {},
   "outputs": [
    {
     "data": {
      "text/plain": [
       "'Digital Hhps:'"
      ]
     },
     "metadata": {},
     "output_type": "display_data"
    },
    {
     "data": {
      "image/png": "[encoded data removed]",
      "text/latex": [
       "$\\displaystyle \\frac{0.528516210062368 z^{4} - 2.11405833510211 z^{3} + 3.17107774497738 z^{2} - 2.11404532489789 z + 0.528509704960256}{1.0 z^{4} - 4.0 z^{3} + 6.0 z^{2} - 4.0 z + 1.0}$"
      ],
      "text/plain": [
       "                   4                     3                     2              \n",
       "0.528516210062368⋅z  - 2.11405833510211⋅z  + 3.17107774497738⋅z  - 2.114045324\n",
       "──────────────────────────────────────────────────────────────────────────────\n",
       "                                       4        3        2                    \n",
       "                                  1.0⋅z  - 4.0⋅z  + 6.0⋅z  - 4.0⋅z + 1.0      \n",
       "\n",
       "                           \n",
       "89789⋅z + 0.528509704960256\n",
       "───────────────────────────\n",
       "                           \n",
       "                           "
      ]
     },
     "metadata": {},
     "output_type": "display_data"
    }
   ],
   "source": [
    "z = symbols('z')\n",
    "\n",
    "HhpsDigital = Hhps.subs([(s, (Ft*2*(z-1))/(z+1)), (Fs, FS), (Ft, FT)])\n",
    "display(\"Digital Hhps:\", HhpsDigital.simplify())\n",
    "\n"
   ]
  },
  {
   "cell_type": "code",
   "execution_count": 60,
   "metadata": {},
   "outputs": [
    {
     "data": {
      "text/plain": [
       "'Magnitude response'"
      ]
     },
     "metadata": {},
     "output_type": "display_data"
    },
    {
     "data": {
      "image/png": "[encoded data removed]",
      "text/latex": [
       "$\\displaystyle \\left|{\\left(-1.16195 + \\frac{0.409059982038562 i}{w} + \\frac{0.926220489560089}{w^{2}}\\right) \\left(-0.45485 + \\frac{0.987551099588815 i}{w} + \\frac{0.926220489560089}{w^{2}}\\right)}\\right|$"
      ],
      "text/plain": [
       "│⎛           0.409059982038562⋅ⅈ   0.926220489560089⎞ ⎛           0.9875510995\n",
       "│⎜-1.16195 + ─────────────────── + ─────────────────⎟⋅⎜-0.45485 + ────────────\n",
       "│⎜                    w                     2       ⎟ ⎜                    w  \n",
       "│⎝                                         w        ⎠ ⎝                       \n",
       "\n",
       "88815⋅ⅈ   0.926220489560089⎞│\n",
       "─────── + ─────────────────⎟│\n",
       "                   2       ⎟│\n",
       "                  w        ⎠│"
      ]
     },
     "metadata": {},
     "output_type": "display_data"
    },
    {
     "data": {
      "text/plain": [
       "'Phase response'"
      ]
     },
     "metadata": {},
     "output_type": "display_data"
    },
    {
     "data": {
      "image/png": "[encoded data removed]",
      "text/latex": [
       "$\\displaystyle - \\operatorname{atan}{\\left(\\frac{\\left(3.43153758112373 \\left(\\left(\\operatorname{re}{\\left(w\\right)}\\right)^{2} - \\left(\\operatorname{im}{\\left(w\\right)}\\right)^{2}\\right) \\operatorname{im}{\\left(w\\right)} + 1.33354593299746 \\left(\\left(\\operatorname{re}{\\left(w\\right)}\\right)^{2} + \\left(\\operatorname{im}{\\left(w\\right)}\\right)^{2}\\right)^{3} - 3.80296184516143 \\left(\\left(\\operatorname{re}{\\left(w\\right)}\\right)^{2} + \\left(\\operatorname{im}{\\left(w\\right)}\\right)^{2}\\right)^{2} \\operatorname{im}{\\left(w\\right)} - \\left(\\left(\\operatorname{re}{\\left(w\\right)}\\right)^{2} + \\left(\\operatorname{im}{\\left(w\\right)}\\right)^{2}\\right) \\left(1.29356979974996 \\left(\\operatorname{re}{\\left(w\\right)}\\right)^{2} - 3.88070939924987 \\left(\\operatorname{im}{\\left(w\\right)}\\right)^{2}\\right)\\right) \\operatorname{re}{\\left(w\\right)}}{- 1.90148092258072 \\left(\\left(\\operatorname{re}{\\left(w\\right)}\\right)^{2} - \\left(\\operatorname{im}{\\left(w\\right)}\\right)^{2}\\right) \\left(\\left(\\operatorname{re}{\\left(w\\right)}\\right)^{2} + \\left(\\operatorname{im}{\\left(w\\right)}\\right)^{2}\\right)^{2} + 0.5285129575 \\left(\\left(\\operatorname{re}{\\left(w\\right)}\\right)^{2} + \\left(\\operatorname{im}{\\left(w\\right)}\\right)^{2}\\right)^{4} - 1.33354593299746 \\left(\\left(\\operatorname{re}{\\left(w\\right)}\\right)^{2} + \\left(\\operatorname{im}{\\left(w\\right)}\\right)^{2}\\right)^{3} \\operatorname{im}{\\left(w\\right)} + \\left(\\left(\\operatorname{re}{\\left(w\\right)}\\right)^{2} + \\left(\\operatorname{im}{\\left(w\\right)}\\right)^{2}\\right) \\left(3.88070939924987 \\left(\\operatorname{re}{\\left(w\\right)}\\right)^{2} - 1.29356979974996 \\left(\\operatorname{im}{\\left(w\\right)}\\right)^{2}\\right) \\operatorname{im}{\\left(w\\right)} + 0.857884395280932 \\left(\\operatorname{re}{\\left(w\\right)}\\right)^{4} - 5.14730637168559 \\left(\\operatorname{re}{\\left(w\\right)}\\right)^{2} \\left(\\operatorname{im}{\\left(w\\right)}\\right)^{2} + 0.857884395280932 \\left(\\operatorname{im}{\\left(w\\right)}\\right)^{4}} \\right)}$"
      ],
      "text/plain": [
       "     ⎛                                                ⎛                       \n",
       "     ⎜                                                ⎜                 ⎛  2  \n",
       "     ⎜                                                ⎝3.43153758112373⋅⎝re (w\n",
       "-atan⎜────────────────────────────────────────────────────────────────────────\n",
       "     ⎜                                                      2                 \n",
       "     ⎜                   ⎛  2        2   ⎞ ⎛  2        2   ⎞                 ⎛\n",
       "     ⎝- 1.90148092258072⋅⎝re (w) - im (w)⎠⋅⎝re (w) + im (w)⎠  + 0.5285129575⋅⎝\n",
       "\n",
       "                                                      3                       \n",
       "      2   ⎞                          ⎛  2        2   ⎞                     ⎛  \n",
       ") - im (w)⎠⋅im(w) + 1.33354593299746⋅⎝re (w) + im (w)⎠  - 3.80296184516143⋅⎝re\n",
       "──────────────────────────────────────────────────────────────────────────────\n",
       "                4                                     3                       \n",
       "  2        2   ⎞                     ⎛  2        2   ⎞          ⎛  2        2 \n",
       "re (w) + im (w)⎠  - 1.33354593299746⋅⎝re (w) + im (w)⎠ ⋅im(w) + ⎝re (w) + im (\n",
       "\n",
       "              2                                                               \n",
       "2        2   ⎞          ⎛  2        2   ⎞ ⎛                   2               \n",
       " (w) + im (w)⎠ ⋅im(w) - ⎝re (w) + im (w)⎠⋅⎝1.29356979974996⋅re (w) - 3.8807093\n",
       "──────────────────────────────────────────────────────────────────────────────\n",
       "                                                                              \n",
       "  ⎞ ⎛                   2                         2   ⎞                       \n",
       "w)⎠⋅⎝3.88070939924987⋅re (w) - 1.29356979974996⋅im (w)⎠⋅im(w) + 0.857884395280\n",
       "\n",
       "               ⎞                                                      ⎞\n",
       "          2   ⎞⎟                                                      ⎟\n",
       "9924987⋅im (w)⎠⎠⋅re(w)                                                ⎟\n",
       "──────────────────────────────────────────────────────────────────────⎟\n",
       "                                                                      ⎟\n",
       "      4                         2      2                          4   ⎟\n",
       "932⋅re (w) - 5.14730637168559⋅re (w)⋅im (w) + 0.857884395280932⋅im (w)⎠"
      ]
     },
     "metadata": {},
     "output_type": "display_data"
    },
    {
     "ename": "TypeError",
     "evalue": "can't convert expression to float",
     "output_type": "error",
     "traceback": [
      "\u001b[1;31m---------------------------------------------------------------------------\u001b[0m",
      "\u001b[1;31mTypeError\u001b[0m                                 Traceback (most recent call last)",
      "\u001b[1;32m~\\AppData\\Local\\Temp\\ipykernel_13912\\2210942471.py\u001b[0m in \u001b[0;36m<module>\u001b[1;34m\u001b[0m\n\u001b[0;32m      9\u001b[0m \u001b[1;33m\u001b[0m\u001b[0m\n\u001b[0;32m     10\u001b[0m \u001b[0mfig\u001b[0m\u001b[1;33m,\u001b[0m \u001b[0max\u001b[0m \u001b[1;33m=\u001b[0m \u001b[0mplt\u001b[0m\u001b[1;33m.\u001b[0m\u001b[0msubplots\u001b[0m\u001b[1;33m(\u001b[0m\u001b[1;33m)\u001b[0m\u001b[1;33m\u001b[0m\u001b[1;33m\u001b[0m\u001b[0m\n\u001b[1;32m---> 11\u001b[1;33m \u001b[0max\u001b[0m\u001b[1;33m.\u001b[0m\u001b[0mplot\u001b[0m\u001b[1;33m(\u001b[0m\u001b[0mfloat\u001b[0m\u001b[1;33m(\u001b[0m\u001b[0mAbs\u001b[0m\u001b[1;33m(\u001b[0m\u001b[0mHhps\u001b[0m\u001b[1;33m)\u001b[0m\u001b[1;33m)\u001b[0m\u001b[1;33m)\u001b[0m\u001b[1;33m\u001b[0m\u001b[1;33m\u001b[0m\u001b[0m\n\u001b[0m\u001b[0;32m     12\u001b[0m \u001b[0max\u001b[0m\u001b[1;33m.\u001b[0m\u001b[0mgrid\u001b[0m\u001b[1;33m(\u001b[0m\u001b[1;33m)\u001b[0m\u001b[1;33m\u001b[0m\u001b[1;33m\u001b[0m\u001b[0m\n\u001b[0;32m     13\u001b[0m \u001b[0mplt\u001b[0m\u001b[1;33m.\u001b[0m\u001b[0mshow\u001b[0m\u001b[1;33m(\u001b[0m\u001b[1;33m)\u001b[0m\u001b[1;33m\u001b[0m\u001b[1;33m\u001b[0m\u001b[0m\n",
      "\u001b[1;32mc:\\Users\\Conrad\\AppData\\Local\\Programs\\Python\\Python37\\lib\\site-packages\\sympy\\core\\expr.py\u001b[0m in \u001b[0;36m__float__\u001b[1;34m(self)\u001b[0m\n\u001b[0;32m    357\u001b[0m     \u001b[1;33m@\u001b[0m\u001b[0msympify_return\u001b[0m\u001b[1;33m(\u001b[0m\u001b[1;33m[\u001b[0m\u001b[1;33m(\u001b[0m\u001b[1;34m'other'\u001b[0m\u001b[1;33m,\u001b[0m \u001b[1;34m'Expr'\u001b[0m\u001b[1;33m)\u001b[0m\u001b[1;33m]\u001b[0m\u001b[1;33m,\u001b[0m \u001b[0mNotImplemented\u001b[0m\u001b[1;33m)\u001b[0m\u001b[1;33m\u001b[0m\u001b[1;33m\u001b[0m\u001b[0m\n\u001b[0;32m    358\u001b[0m     \u001b[1;32mdef\u001b[0m \u001b[0m__le__\u001b[0m\u001b[1;33m(\u001b[0m\u001b[0mself\u001b[0m\u001b[1;33m,\u001b[0m \u001b[0mother\u001b[0m\u001b[1;33m)\u001b[0m\u001b[1;33m:\u001b[0m\u001b[1;33m\u001b[0m\u001b[1;33m\u001b[0m\u001b[0m\n\u001b[1;32m--> 359\u001b[1;33m         \u001b[1;32mfrom\u001b[0m \u001b[1;33m.\u001b[0m\u001b[0mrelational\u001b[0m \u001b[1;32mimport\u001b[0m \u001b[0mLessThan\u001b[0m\u001b[1;33m\u001b[0m\u001b[1;33m\u001b[0m\u001b[0m\n\u001b[0m\u001b[0;32m    360\u001b[0m         \u001b[1;32mreturn\u001b[0m \u001b[0mLessThan\u001b[0m\u001b[1;33m(\u001b[0m\u001b[0mself\u001b[0m\u001b[1;33m,\u001b[0m \u001b[0mother\u001b[0m\u001b[1;33m)\u001b[0m\u001b[1;33m\u001b[0m\u001b[1;33m\u001b[0m\u001b[0m\n\u001b[0;32m    361\u001b[0m \u001b[1;33m\u001b[0m\u001b[0m\n",
      "\u001b[1;31mTypeError\u001b[0m: can't convert expression to float"
     ]
    },
    {
     "data": {
      "image/png": "[encoded data removed]",
      "text/plain": [
       "<Figure size 432x288 with 1 Axes>"
      ]
     },
     "metadata": {
      "needs_background": "light"
     },
     "output_type": "display_data"
    }
   ],
   "source": [
    "#frequency response\n",
    "#analog \n",
    "w = symbols('w')\n",
    "Hhps = Hhps.subs([(s, I*w), (Fs, FS), (Ft, FT)])\n",
    "\n",
    "display(\"Magnitude response\", Abs(Hhps))\n",
    "\n",
    "display(\"Phase response\", atan(im(Hhps)/re(Hhps)).simplify().evalf())\n",
    "\n",
    "fig, ax = plt.subplots()\n",
    "ax.plot(Abs(Hhps))\n",
    "ax.grid()\n",
    "plt.show()"
   ]
  }
 ],
 "metadata": {
  "interpreter": {
   "hash": "0f59bac9780732ca3304efe7ae9ff76b18fa85106a69910df37ee679cd4bd51e"
  },
  "kernelspec": {
   "display_name": "Python 3.7.3 64-bit",
   "language": "python",
   "name": "python3"
  },
  "language_info": {
   "codemirror_mode": {
    "name": "ipython",
    "version": 3
   },
   "file_extension": ".py",
   "mimetype": "text/x-python",
   "name": "python",
   "nbconvert_exporter": "python",
   "pygments_lexer": "ipython3",
   "version": "3.7.3"
  },
  "orig_nbformat": 4
 },
 "nbformat": 4,
 "nbformat_minor": 2
}

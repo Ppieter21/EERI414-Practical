{
 "cells": [
  {
   "cell_type": "code",
   "execution_count": 3,
   "metadata": {},
   "outputs": [
    {
     "data": {
      "text/plain": [
       "'Wp:'"
      ]
     },
     "metadata": {},
     "output_type": "display_data"
    },
    {
     "name": "stderr",
     "output_type": "stream",
     "text": [
      "c:\\Users\\Conrad\\AppData\\Local\\Programs\\Python\\Python37\\lib\\site-packages\\IPython\\lib\\latextools.py:126: MatplotlibDeprecationWarning: \n",
      "The to_png function was deprecated in Matplotlib 3.4 and will be removed two minor releases later. Use mathtext.math_to_image instead.\n",
      "  mt.to_png(f, s, fontsize=12, dpi=dpi, color=color)\n",
      "c:\\Users\\Conrad\\AppData\\Local\\Programs\\Python\\Python37\\lib\\site-packages\\IPython\\lib\\latextools.py:126: MatplotlibDeprecationWarning: \n",
      "The to_rgba function was deprecated in Matplotlib 3.4 and will be removed two minor releases later. Use mathtext.math_to_image instead.\n",
      "  mt.to_png(f, s, fontsize=12, dpi=dpi, color=color)\n",
      "c:\\Users\\Conrad\\AppData\\Local\\Programs\\Python\\Python37\\lib\\site-packages\\IPython\\lib\\latextools.py:126: MatplotlibDeprecationWarning: \n",
      "The to_mask function was deprecated in Matplotlib 3.4 and will be removed two minor releases later. Use mathtext.math_to_image instead.\n",
      "  mt.to_png(f, s, fontsize=12, dpi=dpi, color=color)\n",
      "c:\\Users\\Conrad\\AppData\\Local\\Programs\\Python\\Python37\\lib\\site-packages\\IPython\\lib\\latextools.py:126: MatplotlibDeprecationWarning: \n",
      "The MathtextBackendBitmap class was deprecated in Matplotlib 3.4 and will be removed two minor releases later. Use mathtext.math_to_image instead.\n",
      "  mt.to_png(f, s, fontsize=12, dpi=dpi, color=color)\n"
     ]
    },
    {
     "data": {
      "image/png": "[encoded data removed]",
      "text/latex": [
       "$\\displaystyle 2.4519747540213$"
      ],
      "text/plain": [
       "2.45197475402130"
      ]
     },
     "metadata": {},
     "output_type": "display_data"
    },
    {
     "data": {
      "text/plain": [
       "'Ws:'"
      ]
     },
     "metadata": {},
     "output_type": "display_data"
    },
    {
     "data": {
      "image/png": "[encoded data removed]",
      "text/latex": [
       "$\\displaystyle 1.53248422126331$"
      ],
      "text/plain": [
       "1.53248422126331"
      ]
     },
     "metadata": {},
     "output_type": "display_data"
    },
    {
     "data": {
      "text/plain": [
       "'Omegap:'"
      ]
     },
     "metadata": {},
     "output_type": "display_data"
    },
    {
     "data": {
      "image/png": "[encoded data removed]",
      "text/latex": [
       "$\\displaystyle 0.962403496232266$"
      ],
      "text/plain": [
       "0.962403496232266"
      ]
     },
     "metadata": {},
     "output_type": "display_data"
    },
    {
     "data": {
      "text/plain": [
       "'Omegas:'"
      ]
     },
     "metadata": {},
     "output_type": "display_data"
    },
    {
     "data": {
      "image/png": "[encoded data removed]",
      "text/latex": [
       "$\\displaystyle 2.7842989746866$"
      ],
      "text/plain": [
       "2.78429897468660"
      ]
     },
     "metadata": {},
     "output_type": "display_data"
    },
    {
     "data": {
      "text/plain": [
       "'n:'"
      ]
     },
     "metadata": {},
     "output_type": "display_data"
    },
    {
     "data": {
      "image/png": "[encoded data removed]",
      "text/latex": [
       "$\\displaystyle 0.57999225524548 \\operatorname{acosh}{\\left(\\sqrt{\\frac{10^{\\frac{Amin}{10}} - 1}{10^{\\frac{Amax}{10}} - 1}} \\right)}$"
      ],
      "text/plain": [
       "                      ⎛          ____________⎞\n",
       "                      ⎜         ╱   Amin     ⎟\n",
       "                      ⎜        ╱    ────     ⎟\n",
       "                      ⎜       ╱      10      ⎟\n",
       "                      ⎜      ╱    10     - 1 ⎟\n",
       "0.57999225524548⋅acosh⎜     ╱     ────────── ⎟\n",
       "                      ⎜    ╱        Amax     ⎟\n",
       "                      ⎜   ╱         ────     ⎟\n",
       "                      ⎜  ╱           10      ⎟\n",
       "                      ⎝╲╱         10     - 1 ⎠"
      ]
     },
     "metadata": {},
     "output_type": "display_data"
    },
    {
     "data": {
      "image/png": "[encoded data removed]",
      "text/latex": [
       "$\\displaystyle 3.89246095739655$"
      ],
      "text/plain": [
       "3.89246095739655"
      ]
     },
     "metadata": {},
     "output_type": "display_data"
    },
    {
     "data": {
      "image/png": "[encoded data removed]",
      "text/latex": [
       "$\\displaystyle 4$"
      ],
      "text/plain": [
       "4"
      ]
     },
     "metadata": {},
     "output_type": "display_data"
    },
    {
     "name": "stdout",
     "output_type": "stream",
     "text": [
      "Low pass filter function\n"
     ]
    },
    {
     "data": {
      "image/png": "[encoded data removed]",
      "text/latex": [
       "$\\displaystyle \\frac{0.51352}{\\left(s^{2} + 0.42504 s + 1.16195\\right) \\left(s^{2} + 1.02613 s + 0.45485\\right)}$"
      ],
      "text/plain": [
       "                       0.51352                       \n",
       "─────────────────────────────────────────────────────\n",
       "⎛ 2                      ⎞ ⎛ 2                      ⎞\n",
       "⎝s  + 0.42504⋅s + 1.16195⎠⋅⎝s  + 1.02613⋅s + 0.45485⎠"
      ]
     },
     "metadata": {},
     "output_type": "display_data"
    },
    {
     "name": "stdout",
     "output_type": "stream",
     "text": [
      "\n",
      "\n",
      "High Pass Filter function\n"
     ]
    },
    {
     "data": {
      "image/png": "[encoded data removed]",
      "text/latex": [
       "$\\displaystyle \\frac{0.51352 s^{4}}{0.5285129575 s^{4} + 3.85803936548276 s^{3} + 15.915098225408 s^{2} + 31.32318345181 s + 60.0984774828552}$"
      ],
      "text/plain": [
       "                                                    4                         \n",
       "                                           0.51352⋅s                          \n",
       "──────────────────────────────────────────────────────────────────────────────\n",
       "              4                     3                    2                    \n",
       "0.5285129575⋅s  + 3.85803936548276⋅s  + 15.915098225408⋅s  + 31.32318345181⋅s \n",
       "\n",
       "                  \n",
       "                  \n",
       "──────────────────\n",
       "                  \n",
       "+ 60.0984774828552"
      ]
     },
     "metadata": {},
     "output_type": "display_data"
    }
   ],
   "source": [
    "import tkinter as tk\n",
    "import os\n",
    "\n",
    "from sympy import symbols\n",
    "from sympy import fraction, poly\n",
    "from sympy import tan, acosh, sqrt, ceiling, I, Abs, atan, re, im\n",
    "from sympy.interactive import printing\n",
    "printing.init_printing(use_latex = True)\n",
    "from control.matlab import zero, pole, bode, tf\n",
    "import numpy as np\n",
    "\n",
    "\n",
    "from scipy.signal import freqz,freqs\n",
    "\n",
    "import matplotlib.pyplot as plt\n",
    "\n",
    "\n",
    "WIDTH, HEIGHT = 1000,562\n",
    "SAMPLINGRATE = 128\n",
    "AMOUNT = 2\n",
    "ImageSize = 256\n",
    "root = tk.Tk()\n",
    "root.minsize(WIDTH, HEIGHT)\n",
    "root.title(\"EERI 414 Practical:  IIR Digital high-pass filter\")\n",
    "BG = tk.PhotoImage(file = os.path.join(\"Images\", \"background.png\"))\n",
    "lblBG = tk.Label(root, image = BG)\n",
    "lblBG.place(x = 0, y = 0)\n",
    "root.configure(background = \"navy\")\n",
    "\n",
    "def btnCreateClick():\n",
    "    FT = 205000 #Hz\n",
    "    FP = 80000 #Hz\n",
    "    FS = 50000 #Hz\n",
    "    AMAX = 0.25 #dB\n",
    "    AMIN = 40 #dB\n",
    "    PI = 3.141592653589792328462643383279502\n",
    "\n",
    "    Ft, Fp, Fs, Amax, Amin, s = symbols('Ft Fp Fs Amax Amin s')\n",
    "\n",
    "\n",
    "    #Convert to radians per seconds:\n",
    "    Wp, Ws = symbols('Wp Ws')\n",
    "\n",
    "    W_p = (2*PI*Fp)/Ft\n",
    "    Wp = W_p.subs(Fp,FP).subs(Ft,FT)\n",
    "    W_s = (2*PI*Fs)/Ft\n",
    "    Ws = W_s.subs(Fs,FS).subs(Ft,FT)\n",
    "\n",
    "    display(\"Wp:\", Wp, \"Ws:\", Ws)\n",
    "\n",
    "    #Pre-warp/normalise to Low Pass\n",
    "    Omega_p, Omega_s = symbols('Omegap Omegas')\n",
    "\n",
    "    Omega_dp = tan(Wp/2)\n",
    "    Omega_ds = tan(Ws/2)\n",
    "    Omega_p = Omega_ds\n",
    "    Omega_s = Omega_dp\n",
    "\n",
    "    display(\"Omegap:\", Omega_p, \"Omegas:\", Omega_s)\n",
    "\n",
    "\n",
    "    #Find order of filter\n",
    "\n",
    "    n = (acosh(sqrt((10**(Amin/10)-1)/(10**(Amax/10)-1))))/(acosh(Omega_s/Omega_p))\n",
    "\n",
    "    display(\"n:\", n)\n",
    "\n",
    "    nAnswer = n.subs([(Amax, AMAX), (Amin, AMIN), (Ft, FT), (Fp, FP), (Fs, FS)])\n",
    "\n",
    "    display(nAnswer.evalf())\n",
    "    display(ceiling(nAnswer.evalf()))\n",
    "\n",
    "    Hlps_func = symbols('Hlps')\n",
    "\n",
    "    Hlps_func = (0.51352)/((s*s + 0.42504*s + 1.16195) * (s*s + 1.02613*s + 0.45485)) #n=4\n",
    "\n",
    "    print(\"Low pass filter function\")\n",
    "    display(Hlps_func)\n",
    "\n",
    "    #Hhps = symbols('Hhps')\n",
    "    #Substitute equation 10 into the transfer function\n",
    "    Hhps = Hlps_func.subs(s, Omega_dp/s).subs(Fs, FS).subs(Ft, FT)\n",
    "    print(\"\\n\\nHigh Pass Filter function\")\n",
    "    Hhps_ex = Hhps.expand()\n",
    "    Hhps_sim = Hhps_ex.simplify()\n",
    "    display(Hhps_sim)\n",
    "    btncreate.config(state=\"disabled\")\n",
    "\n",
    "def btnAnalogClick():\n",
    "    pass\n",
    "\n",
    "\n",
    "def btnDigitalClick():\n",
    "    pass\n",
    "\n",
    "\n",
    "def btnRealizeClick():\n",
    "    pass\n",
    "\n",
    "\n",
    "def btnCompareClick():\n",
    "    pass\n",
    "\n",
    "\n",
    "\n",
    "       \n",
    "btncreate = tk.Button(root, text = \"Create filter\",command=btnCreateClick)\n",
    "btncreate.place(x=WIDTH*0.2,y=HEIGHT*0.1)\n",
    "\n",
    "btnAnalog = tk.Button(root, text = \"Analog domain\",command=btnAnalogClick)\n",
    "btnAnalog.place(x=WIDTH*0.2,y=HEIGHT*0.2)\n",
    "\n",
    "btnDigital = tk.Button(root, text = \"Digital domain\",command=btnDigitalClick)\n",
    "btnDigital.place(x=WIDTH*0.2,y=HEIGHT*0.3)\n",
    "\n",
    "btnRealize = tk.Button(root, text = \"Realize filter\",command=btnRealizeClick)\n",
    "btnRealize.place(x=WIDTH*0.2,y=HEIGHT*0.4)\n",
    "\n",
    "btnCompare = tk.Button(root, text = \"Input vs output of filter\",command=btnCompareClick)\n",
    "btnCompare.place(x=WIDTH*0.2,y=HEIGHT*0.5)\n",
    "\n",
    "\n",
    "\n",
    "root.mainloop()\n"
   ]
  }
 ],
 "metadata": {
  "interpreter": {
   "hash": "0f59bac9780732ca3304efe7ae9ff76b18fa85106a69910df37ee679cd4bd51e"
  },
  "kernelspec": {
   "display_name": "Python 3.7.3 64-bit",
   "language": "python",
   "name": "python3"
  },
  "language_info": {
   "codemirror_mode": {
    "name": "ipython",
    "version": 3
   },
   "file_extension": ".py",
   "mimetype": "text/x-python",
   "name": "python",
   "nbconvert_exporter": "python",
   "pygments_lexer": "ipython3",
   "version": "3.7.3"
  },
  "orig_nbformat": 4
 },
 "nbformat": 4,
 "nbformat_minor": 2
}
